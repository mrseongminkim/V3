{
 "cells": [
  {
   "cell_type": "code",
   "execution_count": 5,
   "metadata": {},
   "outputs": [],
   "source": [
    "import re\n",
    "import warnings\n",
    "\n",
    "from preprocessor import Preprocessor, ConstraintError\n",
    "\n",
    "warnings.filterwarnings('ignore', message='Possible nested set')\n",
    "\n",
    "python_regex = '/seongmin/V3/data/tour_de_source/corpusPatterns.txt'\n",
    "\n",
    "file_path = python_regex\n",
    "\n",
    "with open(file_path) as f:\n",
    "    regexes = f.readlines()\n",
    "\n",
    "preprocessor = Preprocessor()\n",
    "for i, regex in enumerate(regexes, 1):\n",
    "    regex = eval(regex)\n",
    "    try:\n",
    "        regex_string, regex_list = preprocessor.preprocess(regex)\n",
    "    except re.error:\n",
    "        continue\n",
    "    except ConstraintError:\n",
    "        continue"
   ]
  }
 ],
 "metadata": {
  "kernelspec": {
   "display_name": "base",
   "language": "python",
   "name": "python3"
  },
  "language_info": {
   "codemirror_mode": {
    "name": "ipython",
    "version": 3
   },
   "file_extension": ".py",
   "mimetype": "text/x-python",
   "name": "python",
   "nbconvert_exporter": "python",
   "pygments_lexer": "ipython3",
   "version": "3.10.13"
  }
 },
 "nbformat": 4,
 "nbformat_minor": 2
}
